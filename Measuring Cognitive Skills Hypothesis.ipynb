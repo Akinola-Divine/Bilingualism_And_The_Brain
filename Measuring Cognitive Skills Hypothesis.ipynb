{
 "cells": [
  {
   "metadata": {},
   "cell_type": "markdown",
   "source": [
    "### Loading the Dataset and viewing the first 8 rows\n",
    "\n",
    "### Importing necessary modules"
   ],
   "id": "231b56aeadd36db9"
  },
  {
   "cell_type": "code",
   "id": "initial_id",
   "metadata": {
    "collapsed": true,
    "ExecuteTime": {
     "end_time": "2025-10-16T12:27:32.516697Z",
     "start_time": "2025-10-16T12:27:32.507581Z"
    }
   },
   "source": [
    "import pandas as pd\n",
    "from sklearn.model_selection import train_test_split\n",
    "from sklearn.linear_model import LinearRegression\n",
    "from sklearn.metrics import mean_squared_error\n",
    "import matplotlib.pyplot as plt\n",
    "import math as m\n",
    "from sklearn.preprocessing import PolynomialFeatures\n",
    "\n",
    "data_set = pd.read_csv(\"/Users/omobolaniyi/Documents/Folder/bidsignore/RT_analysis/flanker_RT_data.tsv\", sep='\\t')\n",
    "data_set[\"output\"] = data_set['IncongMix'] - data_set['CongMix']\n",
    "print(data_set.head(8))"
   ],
   "outputs": [
    {
     "name": "stdout",
     "output_type": "stream",
     "text": [
      "   Subject  Age  Sex  Otherlang  RVMT       AoA  Immersion    L2_Home  \\\n",
      "0      201   33    1     0.0000    46  3.321928  -1.925999  -7.151543   \n",
      "1      202   33    1     0.7500    40  2.321928   0.395929   3.543518   \n",
      "2      203   35    1     0.0625    45  3.459432   3.508629   2.903210   \n",
      "3      204   28    1     0.0000    39  2.321928   6.725949   6.828151   \n",
      "4      205   29    0     0.1875    47 -3.321928   5.459863  10.287608   \n",
      "5      207   34    0     0.0000    41  3.584963   4.208427   3.550585   \n",
      "6      209   29    1     0.0000    42  4.087463   5.274899  -3.195234   \n",
      "7      210   22    1     0.0000    43  2.807355   4.840529   2.426765   \n",
      "\n",
      "   L2_Social  YrL2qualLog   Immqual  CongMix  Congruent1  Control  IncongMix  \\\n",
      "0  10.772155    -0.061401 -3.341037      445         408      400        514   \n",
      "1  44.247063     3.544321 -0.019109      449         421      381        533   \n",
      "2  49.909285     3.584963  3.093591      384         330      311        465   \n",
      "3  61.363197     3.639039  6.725949      432         394      394        506   \n",
      "4  56.027227     3.740523  5.044825      429         465      377        518   \n",
      "5  65.792904     3.707359  3.793389      415         362      368        501   \n",
      "6  48.274919     2.285402  4.975339      448         462      406        514   \n",
      "7  46.163673     2.392317  4.840529      439         383      368        492   \n",
      "\n",
      "   Neutral  output  \n",
      "0      444      69  \n",
      "1      471      84  \n",
      "2      419      81  \n",
      "3      465      74  \n",
      "4      481      89  \n",
      "5      412      86  \n",
      "6      438      66  \n",
      "7      436      53  \n"
     ]
    }
   ],
   "execution_count": 9
  },
  {
   "metadata": {
    "ExecuteTime": {
     "end_time": "2025-10-16T12:27:32.531710Z",
     "start_time": "2025-10-16T12:27:32.523336Z"
    }
   },
   "cell_type": "code",
   "source": [
    "X = data_set[['Age', 'Otherlang', 'Immersion' ]]\n",
    "y = data_set['output']\n",
    "\n",
    "#splitting the dataset to avoid overfitting\n",
    "X_train, X_test, y_train, y_test = train_test_split(X, y, test_size=0.25, random_state=10)\n",
    "model = LinearRegression()\n",
    "poly = PolynomialFeatures(degree=1)\n",
    "X_train_poly = poly.fit_transform(X_train)\n",
    "X_test_poly = poly.transform(X_test)\n",
    "X_train_poly = poly.fit_transform(X_train)\n",
    "model.fit(X_train_poly, y_train)\n",
    "\n",
    "#predicting for comparison\n",
    "y_pred = model.predict(X_test_poly)"
   ],
   "id": "3d1a29e0be7143dd",
   "outputs": [],
   "execution_count": 10
  },
  {
   "metadata": {},
   "cell_type": "markdown",
   "source": "### Plotting to see how good the prediction is",
   "id": "46251f3db42b8548"
  },
  {
   "metadata": {
    "ExecuteTime": {
     "end_time": "2025-10-16T12:27:32.584878Z",
     "start_time": "2025-10-16T12:27:32.536417Z"
    }
   },
   "cell_type": "code",
   "source": [
    "plt.scatter(y_pred, y_test)\n",
    "plt.show()"
   ],
   "id": "22c21b1bc045b32e",
   "outputs": [
    {
     "data": {
      "text/plain": [
       "<Figure size 640x480 with 1 Axes>"
      ],
      "image/png": "[encoded data removed]"
     },
     "metadata": {},
     "output_type": "display_data",
     "jetTransient": {
      "display_id": null
     }
    }
   ],
   "execution_count": 11
  },
  {
   "metadata": {},
   "cell_type": "markdown",
   "source": "### Calculating the Root Mean Squared Error and scoring the model",
   "id": "a525a36c3763d80d"
  },
  {
   "metadata": {
    "ExecuteTime": {
     "end_time": "2025-10-16T12:27:32.593804Z",
     "start_time": "2025-10-16T12:27:32.590037Z"
    }
   },
   "cell_type": "code",
   "source": [
    "mse = mean_squared_error(y_test, y_pred)\n",
    "print(m.pow(mse, 0.5))\n",
    "\n",
    "print(model.score(X_test_poly, y_test))"
   ],
   "id": "593c0fbfe0d102ef",
   "outputs": [
    {
     "name": "stdout",
     "output_type": "stream",
     "text": [
      "14.154800237280552\n",
      "-0.14574893689265078\n"
     ]
    }
   ],
   "execution_count": 12
  }
 ],
 "metadata": {
  "kernelspec": {
   "display_name": "Python 3",
   "language": "python",
   "name": "python3"
  },
  "language_info": {
   "codemirror_mode": {
    "name": "ipython",
    "version": 2
   },
   "file_extension": ".py",
   "mimetype": "text/x-python",
   "name": "python",
   "nbconvert_exporter": "python",
   "pygments_lexer": "ipython2",
   "version": "2.7.6"
  }
 },
 "nbformat": 4,
 "nbformat_minor": 5
}
